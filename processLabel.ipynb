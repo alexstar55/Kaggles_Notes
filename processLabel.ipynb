{
  "nbformat": 4,
  "nbformat_minor": 0,
  "metadata": {
    "kernelspec": {
      "display_name": "Python [conda env:py36]",
      "language": "python",
      "name": "conda-env-py36-py"
    },
    "language_info": {
      "codemirror_mode": {
        "name": "ipython",
        "version": 3
      },
      "file_extension": ".py",
      "mimetype": "text/x-python",
      "name": "python",
      "nbconvert_exporter": "python",
      "pygments_lexer": "ipython3",
      "version": "3.6.3"
    },
    "toc": {
      "base_numbering": 1,
      "nav_menu": {},
      "number_sections": true,
      "sideBar": true,
      "skip_h1_title": false,
      "title_cell": "Table of Contents",
      "title_sidebar": "Contents",
      "toc_cell": false,
      "toc_position": {},
      "toc_section_display": true,
      "toc_window_display": false
    },
    "varInspector": {
      "cols": {
        "lenName": 16,
        "lenType": 16,
        "lenVar": 40
      },
      "kernels_config": {
        "python": {
          "delete_cmd_postfix": "",
          "delete_cmd_prefix": "del ",
          "library": "var_list.py",
          "varRefreshCmd": "print(var_dic_list())"
        },
        "r": {
          "delete_cmd_postfix": ") ",
          "delete_cmd_prefix": "rm(",
          "library": "var_list.r",
          "varRefreshCmd": "cat(var_dic_list()) "
        }
      },
      "types_to_exclude": [
        "module",
        "function",
        "builtin_function_or_method",
        "instance",
        "_Feature"
      ],
      "window_display": false
    },
    "colab": {
      "name": "processLabel.ipynb",
      "version": "0.3.2",
      "provenance": [],
      "include_colab_link": true
    }
  },
  "cells": [
    {
      "cell_type": "markdown",
      "metadata": {
        "id": "view-in-github",
        "colab_type": "text"
      },
      "source": [
        "<a href=\"https://colab.research.google.com/github/alexstar55/Kaggles_DataScience_AI_Notes/blob/master/processLabel.ipynb\" target=\"_parent\"><img src=\"https://colab.research.google.com/assets/colab-badge.svg\" alt=\"Open In Colab\"/></a>"
      ]
    },
    {
      "cell_type": "code",
      "metadata": {
        "id": "O-k7A8eSkE0I",
        "colab_type": "code",
        "colab": {},
        "outputId": "71aa95e5-6b5e-457e-a8e1-ca8dcdd4ae7d"
      },
      "source": [
        "import numpy as np # linear algebra\n",
        "import pandas as pd # data processing, CSV file I/O (e.g. pd.read_csv)\n",
        "import os\n",
        "print(os.listdir(\"./\"))\n",
        "import sys;\n",
        "import hashlib;\n",
        "from os.path import isfile\n",
        "from joblib import Parallel, delayed\n",
        "import psutil"
      ],
      "execution_count": 0,
      "outputs": [
        {
          "output_type": "stream",
          "text": [
            "['testLabels15.csv', 'processLabel.ipynb', 'trainLabels15.csv', '.ipynb_checkpoints', 'testImages19.csv', 'trainLabels19.csv']\n"
          ],
          "name": "stdout"
        }
      ]
    },
    {
      "cell_type": "code",
      "metadata": {
        "id": "LqC04MF0kE0R",
        "colab_type": "code",
        "colab": {}
      },
      "source": [
        "def minus_df(df1,df2): #return df1 minus df2\n",
        "    c= df1.append(df2)\n",
        "    c.drop_duplicates(keep=False,inplace=True)\n",
        "    return c.reset_index()"
      ],
      "execution_count": 0,
      "outputs": []
    },
    {
      "cell_type": "code",
      "metadata": {
        "id": "CDqBd99EkE0V",
        "colab_type": "code",
        "colab": {}
      },
      "source": [
        "df_train15crop = pd.read_csv('trainLabels15.csv')\n",
        "df_train19crop = pd.read_csv('trainLabels19.csv')\n",
        "\n",
        "df_test15crop = pd.read_csv('testLabels15.csv')\n"
      ],
      "execution_count": 0,
      "outputs": []
    },
    {
      "cell_type": "code",
      "metadata": {
        "id": "5mKaXadSkE0Y",
        "colab_type": "code",
        "colab": {},
        "outputId": "d6604b34-4f54-416f-8d40-d4397911937b"
      },
      "source": [
        "df_train15crop.rename(columns={'image':'id_code','level':'diagnosis'},inplace=True)\n",
        "df_train15crop.head(3)"
      ],
      "execution_count": 0,
      "outputs": [
        {
          "output_type": "execute_result",
          "data": {
            "text/html": [
              "<div>\n",
              "<style>\n",
              "    .dataframe thead tr:only-child th {\n",
              "        text-align: right;\n",
              "    }\n",
              "\n",
              "    .dataframe thead th {\n",
              "        text-align: left;\n",
              "    }\n",
              "\n",
              "    .dataframe tbody tr th {\n",
              "        vertical-align: top;\n",
              "    }\n",
              "</style>\n",
              "<table border=\"1\" class=\"dataframe\">\n",
              "  <thead>\n",
              "    <tr style=\"text-align: right;\">\n",
              "      <th></th>\n",
              "      <th>id_code</th>\n",
              "      <th>diagnosis</th>\n",
              "    </tr>\n",
              "  </thead>\n",
              "  <tbody>\n",
              "    <tr>\n",
              "      <th>0</th>\n",
              "      <td>10_left</td>\n",
              "      <td>0</td>\n",
              "    </tr>\n",
              "    <tr>\n",
              "      <th>1</th>\n",
              "      <td>10_right</td>\n",
              "      <td>0</td>\n",
              "    </tr>\n",
              "    <tr>\n",
              "      <th>2</th>\n",
              "      <td>13_left</td>\n",
              "      <td>0</td>\n",
              "    </tr>\n",
              "  </tbody>\n",
              "</table>\n",
              "</div>"
            ],
            "text/plain": [
              "    id_code  diagnosis\n",
              "0   10_left          0\n",
              "1  10_right          0\n",
              "2   13_left          0"
            ]
          },
          "metadata": {
            "tags": []
          },
          "execution_count": 27
        }
      ]
    },
    {
      "cell_type": "code",
      "metadata": {
        "id": "i-WXr8COkE0c",
        "colab_type": "code",
        "colab": {},
        "outputId": "988096c0-b28c-41f4-ce8c-161052b02ea9"
      },
      "source": [
        "len(df_train15crop),len(df_train19crop)"
      ],
      "execution_count": 0,
      "outputs": [
        {
          "output_type": "execute_result",
          "data": {
            "text/plain": [
              "(35126, 3662)"
            ]
          },
          "metadata": {
            "tags": []
          },
          "execution_count": 28
        }
      ]
    },
    {
      "cell_type": "markdown",
      "metadata": {
        "id": "jZQeVcqmkE0g",
        "colab_type": "text"
      },
      "source": [
        "## 将15年训练集、测试集与19年训练集合并"
      ]
    },
    {
      "cell_type": "code",
      "metadata": {
        "id": "eRufHikXkE0h",
        "colab_type": "code",
        "colab": {},
        "outputId": "e86f915b-3cb2-4119-c23e-c58201de233c"
      },
      "source": [
        "df_1519tr_c=df_train15crop.append(df_train19crop)\n",
        "df_test15crop.rename(columns={'image':'id_code','level':'diagnosis'},inplace=True)\n",
        "df_test15crop.drop(['Usage'],axis=1,inplace=True)\n",
        "df_1519tr_c = df_1519tr_c.append(df_test15crop)\n",
        "df_1519tr_c.shape"
      ],
      "execution_count": 0,
      "outputs": [
        {
          "output_type": "execute_result",
          "data": {
            "text/plain": [
              "(92364, 2)"
            ]
          },
          "metadata": {
            "tags": []
          },
          "execution_count": 30
        }
      ]
    },
    {
      "cell_type": "code",
      "metadata": {
        "id": "O6F877LFkE0k",
        "colab_type": "code",
        "colab": {}
      },
      "source": [
        "# df_1519tr_c.to_csv(r\"./trainLabelscr1519.csv\", index=0)"
      ],
      "execution_count": 0,
      "outputs": []
    },
    {
      "cell_type": "code",
      "metadata": {
        "id": "GUy1iNgOkE0m",
        "colab_type": "code",
        "colab": {},
        "outputId": "4c56cb1d-4b41-4efb-9bc0-2c68b055666f"
      },
      "source": [
        "df_1519tr_c=pd.read_csv(\"trainLabelscr1519.csv\")\n",
        "(df_1519tr_c).head(3)"
      ],
      "execution_count": 0,
      "outputs": [
        {
          "output_type": "execute_result",
          "data": {
            "text/html": [
              "<div>\n",
              "<style>\n",
              "    .dataframe thead tr:only-child th {\n",
              "        text-align: right;\n",
              "    }\n",
              "\n",
              "    .dataframe thead th {\n",
              "        text-align: left;\n",
              "    }\n",
              "\n",
              "    .dataframe tbody tr th {\n",
              "        vertical-align: top;\n",
              "    }\n",
              "</style>\n",
              "<table border=\"1\" class=\"dataframe\">\n",
              "  <thead>\n",
              "    <tr style=\"text-align: right;\">\n",
              "      <th></th>\n",
              "      <th>id_code</th>\n",
              "      <th>diagnosis</th>\n",
              "    </tr>\n",
              "  </thead>\n",
              "  <tbody>\n",
              "    <tr>\n",
              "      <th>0</th>\n",
              "      <td>10_left</td>\n",
              "      <td>0</td>\n",
              "    </tr>\n",
              "    <tr>\n",
              "      <th>1</th>\n",
              "      <td>10_right</td>\n",
              "      <td>0</td>\n",
              "    </tr>\n",
              "    <tr>\n",
              "      <th>2</th>\n",
              "      <td>13_left</td>\n",
              "      <td>0</td>\n",
              "    </tr>\n",
              "  </tbody>\n",
              "</table>\n",
              "</div>"
            ],
            "text/plain": [
              "    id_code  diagnosis\n",
              "0   10_left          0\n",
              "1  10_right          0\n",
              "2   13_left          0"
            ]
          },
          "metadata": {
            "tags": []
          },
          "execution_count": 37
        }
      ]
    },
    {
      "cell_type": "code",
      "metadata": {
        "id": "iG_NVd_CkE0p",
        "colab_type": "code",
        "colab": {},
        "outputId": "3e5e3c41-f921-4cc9-f338-6b5f9b4dad25"
      },
      "source": [
        "len(df_1519tr_c)"
      ],
      "execution_count": 0,
      "outputs": [
        {
          "output_type": "execute_result",
          "data": {
            "text/plain": [
              "92364"
            ]
          },
          "metadata": {
            "tags": []
          },
          "execution_count": 38
        }
      ]
    },
    {
      "cell_type": "code",
      "metadata": {
        "id": "gCGXpW7dkE0s",
        "colab_type": "code",
        "colab": {}
      },
      "source": [
        ""
      ],
      "execution_count": 0,
      "outputs": []
    }
  ]
}